{
 "cells": [
  {
   "cell_type": "markdown",
   "id": "b60d2284",
   "metadata": {},
   "source": [
    "Here is the notebook in which we have given step by step approach to develop Plant disease Detection.\n",
    "The developed model is able to recognize 38 different types of plant diseases out of 14 different plants."
   ]
  },
  {
   "cell_type": "markdown",
   "id": "30f503f2",
   "metadata": {},
   "source": [
    "Plants: 'Tomato','Apple','Blueberry','Grape','Peach','Corn','Cherry','Squash','Strawberry','Pepper','Orange','Potato','Raspberry','Soybean'"
   ]
  },
  {
   "cell_type": "markdown",
   "id": "aacbe602",
   "metadata": {},
   "source": [
    "Importing Necessary Libraries"
   ]
  },
  {
   "cell_type": "code",
   "execution_count": 2,
   "id": "d798ce04",
   "metadata": {},
   "outputs": [
    {
     "name": "stdout",
     "output_type": "stream",
     "text": [
      "Defaulting to user installation because normal site-packages is not writeable\n",
      "Collecting matplotlib\n",
      "  Downloading matplotlib-3.9.2-cp310-cp310-manylinux_2_17_x86_64.manylinux2014_x86_64.whl (8.3 MB)\n",
      "\u001b[2K     \u001b[90m━━━━━━━━━━━━━━━━━━━━━━━━━━━━━━━━━━━━━━━━\u001b[0m \u001b[32m8.3/8.3 MB\u001b[0m \u001b[31m9.8 MB/s\u001b[0m eta \u001b[36m0:00:00\u001b[0m:00:01\u001b[0m00:01\u001b[0m\n",
      "\u001b[?25hRequirement already satisfied: pyparsing>=2.3.1 in /usr/lib/python3/dist-packages (from matplotlib) (2.4.7)\n",
      "Requirement already satisfied: packaging>=20.0 in /home/isha/.local/lib/python3.10/site-packages (from matplotlib) (23.2)\n",
      "Collecting kiwisolver>=1.3.1\n",
      "  Downloading kiwisolver-1.4.7-cp310-cp310-manylinux_2_12_x86_64.manylinux2010_x86_64.whl (1.6 MB)\n",
      "\u001b[2K     \u001b[90m━━━━━━━━━━━━━━━━━━━━━━━━━━━━━━━━━━━━━━━━\u001b[0m \u001b[32m1.6/1.6 MB\u001b[0m \u001b[31m10.4 MB/s\u001b[0m eta \u001b[36m0:00:00\u001b[0m00:01\u001b[0m00:01\u001b[0m\n",
      "\u001b[?25hRequirement already satisfied: numpy>=1.23 in /home/isha/.local/lib/python3.10/site-packages (from matplotlib) (1.26.4)\n",
      "Requirement already satisfied: python-dateutil>=2.7 in /home/isha/.local/lib/python3.10/site-packages (from matplotlib) (2.8.2)\n",
      "Collecting fonttools>=4.22.0\n",
      "  Downloading fonttools-4.54.1-cp310-cp310-manylinux_2_17_x86_64.manylinux2014_x86_64.whl (4.6 MB)\n",
      "\u001b[2K     \u001b[90m━━━━━━━━━━━━━━━━━━━━━━━━━━━━━━━━━━━━━━━━\u001b[0m \u001b[32m4.6/4.6 MB\u001b[0m \u001b[31m10.9 MB/s\u001b[0m eta \u001b[36m0:00:00\u001b[0m00:01\u001b[0m00:01\u001b[0m\n",
      "\u001b[?25hRequirement already satisfied: pillow>=8 in /home/isha/.local/lib/python3.10/site-packages (from matplotlib) (10.4.0)\n",
      "Collecting contourpy>=1.0.1\n",
      "  Downloading contourpy-1.3.0-cp310-cp310-manylinux_2_17_x86_64.manylinux2014_x86_64.whl (322 kB)\n",
      "\u001b[2K     \u001b[90m━━━━━━━━━━━━━━━━━━━━━━━━━━━━━━━━━━━━━━\u001b[0m \u001b[32m322.0/322.0 KB\u001b[0m \u001b[31m11.1 MB/s\u001b[0m eta \u001b[36m0:00:00\u001b[0m\n",
      "\u001b[?25hCollecting cycler>=0.10\n",
      "  Downloading cycler-0.12.1-py3-none-any.whl (8.3 kB)\n",
      "Requirement already satisfied: six>=1.5 in /usr/lib/python3/dist-packages (from python-dateutil>=2.7->matplotlib) (1.16.0)\n",
      "Installing collected packages: kiwisolver, fonttools, cycler, contourpy, matplotlib\n",
      "Successfully installed contourpy-1.3.0 cycler-0.12.1 fonttools-4.54.1 kiwisolver-1.4.7 matplotlib-3.9.2\n",
      "Note: you may need to restart the kernel to use updated packages.\n"
     ]
    }
   ],
   "source": [
    "pip install matplotlib\n"
   ]
  },
  {
   "cell_type": "code",
   "execution_count": 3,
   "id": "83363968",
   "metadata": {},
   "outputs": [],
   "source": [
    "import numpy as np \n",
    "import pandas as pd \n",
    "\n",
    "import os\n",
    "import matplotlib.pyplot as plt "
   ]
  },
  {
   "cell_type": "code",
   "execution_count": 5,
   "id": "bae14827",
   "metadata": {},
   "outputs": [],
   "source": [
    "import torch  # Core PyTorch library for tensor operations, building and training models\n",
    "import torch.nn as nn  # Provides modules and classes to create neural network layers like nn.Linear, nn.Conv2d, etc.\n",
    "import torch.nn.functional as F  # Provides functions for operations like activations (e.g., F.relu), loss functions (e.g., F.cross_entropy)\n",
    "from torch.utils.data import DataLoader, random_split, TensorDataset  \n",
    "    # DataLoader: Used to load datasets and provide mini-batches during training and evaluation\n",
    "    # random_split: Splits datasets into random train/validation/test sets\n",
    "    # TensorDataset: Wraps tensors to create a dataset object that can be used with DataLoader\n",
    "\n",
    "from torchvision.utils import make_grid  # Utility function for creating a grid of images (helpful for visualization)\n",
    "from torchvision.transforms import ToTensor  # Transform to convert image data into PyTorch tensors (from PIL/numpy)\n",
    "from torchvision.datasets import ImageFolder  # A dataset class to load images from a directory structured by class subdirectories\n",
    "import torchvision.transforms as transforms  # Contains various image transforms (e.g., resizing, normalization) for data preprocessing\n",
    "import torchvision.models as models  # Provides pre-trained models like ResNet, VGG, etc., for fine-tuning or feature extraction\n"
   ]
  },
  {
   "cell_type": "code",
   "execution_count": 6,
   "id": "b4ead4be",
   "metadata": {},
   "outputs": [],
   "source": [
    "from tqdm.notebook import tqdm"
   ]
  },
  {
   "cell_type": "code",
   "execution_count": 7,
   "id": "e56071e8",
   "metadata": {},
   "outputs": [
    {
     "name": "stdout",
     "output_type": "stream",
     "text": [
      "Note: you may need to restart the kernel to use updated packages.\n"
     ]
    }
   ],
   "source": [
    "%pip install jovian --upgrade --quiet"
   ]
  },
  {
   "cell_type": "code",
   "execution_count": null,
   "id": "e8e6ae97",
   "metadata": {},
   "outputs": [],
   "source": []
  }
 ],
 "metadata": {
  "kernelspec": {
   "display_name": "Python 3 (ipykernel)",
   "language": "python",
   "name": "python3"
  },
  "language_info": {
   "codemirror_mode": {
    "name": "ipython",
    "version": 3
   },
   "file_extension": ".py",
   "mimetype": "text/x-python",
   "name": "python",
   "nbconvert_exporter": "python",
   "pygments_lexer": "ipython3",
   "version": "3.10.12"
  }
 },
 "nbformat": 4,
 "nbformat_minor": 5
}
